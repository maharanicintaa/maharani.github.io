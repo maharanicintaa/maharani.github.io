{
  "nbformat": 4,
  "nbformat_minor": 0,
  "metadata": {
    "colab": {
      "provenance": [],
      "collapsed_sections": [
        "XO5hD3p3bPcx",
        "LsloHIO-rsV6",
        "ehe1RFsfI_bC"
      ],
      "authorship_tag": "ABX9TyPB014TudaQjXlhqsEyTdhg",
      "include_colab_link": true
    },
    "kernelspec": {
      "name": "python3",
      "display_name": "Python 3"
    },
    "language_info": {
      "name": "python"
    }
  },
  "cells": [
    {
      "cell_type": "markdown",
      "metadata": {
        "id": "view-in-github",
        "colab_type": "text"
      },
      "source": [
        "<a href=\"https://colab.research.google.com/github/maharanicintaa/maharani.github.io/blob/master/bismillah_correlation.ipynb\" target=\"_parent\"><img src=\"https://colab.research.google.com/assets/colab-badge.svg\" alt=\"Open In Colab\"/></a>"
      ]
    },
    {
      "cell_type": "markdown",
      "source": [
        "# PIPIPIP Install"
      ],
      "metadata": {
        "id": "XO5hD3p3bPcx"
      }
    },
    {
      "cell_type": "code",
      "source": [
        "pip install pyproj"
      ],
      "metadata": {
        "colab": {
          "base_uri": "https://localhost:8080/"
        },
        "id": "bq-IsmInrgrd",
        "outputId": "f0144856-69f8-4cb2-e127-2815bc91f97c"
      },
      "execution_count": null,
      "outputs": [
        {
          "output_type": "stream",
          "name": "stdout",
          "text": [
            "Requirement already satisfied: pyproj in /usr/local/lib/python3.11/dist-packages (3.7.0)\n",
            "Requirement already satisfied: certifi in /usr/local/lib/python3.11/dist-packages (from pyproj) (2024.12.14)\n"
          ]
        }
      ]
    },
    {
      "cell_type": "code",
      "source": [
        "pip install rasterio"
      ],
      "metadata": {
        "colab": {
          "base_uri": "https://localhost:8080/"
        },
        "id": "0ery66yNrb6F",
        "outputId": "9fec3118-1202-4bbd-d835-e6bfcae61fb9"
      },
      "execution_count": null,
      "outputs": [
        {
          "output_type": "stream",
          "name": "stdout",
          "text": [
            "Requirement already satisfied: rasterio in /usr/local/lib/python3.11/dist-packages (1.4.3)\n",
            "Requirement already satisfied: affine in /usr/local/lib/python3.11/dist-packages (from rasterio) (2.4.0)\n",
            "Requirement already satisfied: attrs in /usr/local/lib/python3.11/dist-packages (from rasterio) (25.1.0)\n",
            "Requirement already satisfied: certifi in /usr/local/lib/python3.11/dist-packages (from rasterio) (2024.12.14)\n",
            "Requirement already satisfied: click>=4.0 in /usr/local/lib/python3.11/dist-packages (from rasterio) (8.1.8)\n",
            "Requirement already satisfied: cligj>=0.5 in /usr/local/lib/python3.11/dist-packages (from rasterio) (0.7.2)\n",
            "Requirement already satisfied: numpy>=1.24 in /usr/local/lib/python3.11/dist-packages (from rasterio) (1.26.4)\n",
            "Requirement already satisfied: click-plugins in /usr/local/lib/python3.11/dist-packages (from rasterio) (1.1.1)\n",
            "Requirement already satisfied: pyparsing in /usr/local/lib/python3.11/dist-packages (from rasterio) (3.2.1)\n"
          ]
        }
      ]
    },
    {
      "cell_type": "code",
      "source": [
        "pip install earthpy"
      ],
      "metadata": {
        "colab": {
          "base_uri": "https://localhost:8080/"
        },
        "id": "23H9C42VrkUS",
        "outputId": "a8bfd532-e195-494f-b294-605a15468400"
      },
      "execution_count": null,
      "outputs": [
        {
          "output_type": "stream",
          "name": "stdout",
          "text": [
            "Requirement already satisfied: earthpy in /usr/local/lib/python3.11/dist-packages (0.9.4)\n",
            "Requirement already satisfied: geopandas in /usr/local/lib/python3.11/dist-packages (from earthpy) (1.0.1)\n",
            "Requirement already satisfied: matplotlib>=2.0.0 in /usr/local/lib/python3.11/dist-packages (from earthpy) (3.10.0)\n",
            "Requirement already satisfied: numpy>=1.14.0 in /usr/local/lib/python3.11/dist-packages (from earthpy) (1.26.4)\n",
            "Requirement already satisfied: rasterio in /usr/local/lib/python3.11/dist-packages (from earthpy) (1.4.3)\n",
            "Requirement already satisfied: scikit-image in /usr/local/lib/python3.11/dist-packages (from earthpy) (0.25.1)\n",
            "Requirement already satisfied: requests in /usr/local/lib/python3.11/dist-packages (from earthpy) (2.32.3)\n",
            "Requirement already satisfied: contourpy>=1.0.1 in /usr/local/lib/python3.11/dist-packages (from matplotlib>=2.0.0->earthpy) (1.3.1)\n",
            "Requirement already satisfied: cycler>=0.10 in /usr/local/lib/python3.11/dist-packages (from matplotlib>=2.0.0->earthpy) (0.12.1)\n",
            "Requirement already satisfied: fonttools>=4.22.0 in /usr/local/lib/python3.11/dist-packages (from matplotlib>=2.0.0->earthpy) (4.55.7)\n",
            "Requirement already satisfied: kiwisolver>=1.3.1 in /usr/local/lib/python3.11/dist-packages (from matplotlib>=2.0.0->earthpy) (1.4.8)\n",
            "Requirement already satisfied: packaging>=20.0 in /usr/local/lib/python3.11/dist-packages (from matplotlib>=2.0.0->earthpy) (24.2)\n",
            "Requirement already satisfied: pillow>=8 in /usr/local/lib/python3.11/dist-packages (from matplotlib>=2.0.0->earthpy) (11.1.0)\n",
            "Requirement already satisfied: pyparsing>=2.3.1 in /usr/local/lib/python3.11/dist-packages (from matplotlib>=2.0.0->earthpy) (3.2.1)\n",
            "Requirement already satisfied: python-dateutil>=2.7 in /usr/local/lib/python3.11/dist-packages (from matplotlib>=2.0.0->earthpy) (2.8.2)\n",
            "Requirement already satisfied: pyogrio>=0.7.2 in /usr/local/lib/python3.11/dist-packages (from geopandas->earthpy) (0.10.0)\n",
            "Requirement already satisfied: pandas>=1.4.0 in /usr/local/lib/python3.11/dist-packages (from geopandas->earthpy) (2.2.2)\n",
            "Requirement already satisfied: pyproj>=3.3.0 in /usr/local/lib/python3.11/dist-packages (from geopandas->earthpy) (3.7.0)\n",
            "Requirement already satisfied: shapely>=2.0.0 in /usr/local/lib/python3.11/dist-packages (from geopandas->earthpy) (2.0.6)\n",
            "Requirement already satisfied: affine in /usr/local/lib/python3.11/dist-packages (from rasterio->earthpy) (2.4.0)\n",
            "Requirement already satisfied: attrs in /usr/local/lib/python3.11/dist-packages (from rasterio->earthpy) (25.1.0)\n",
            "Requirement already satisfied: certifi in /usr/local/lib/python3.11/dist-packages (from rasterio->earthpy) (2024.12.14)\n",
            "Requirement already satisfied: click>=4.0 in /usr/local/lib/python3.11/dist-packages (from rasterio->earthpy) (8.1.8)\n",
            "Requirement already satisfied: cligj>=0.5 in /usr/local/lib/python3.11/dist-packages (from rasterio->earthpy) (0.7.2)\n",
            "Requirement already satisfied: click-plugins in /usr/local/lib/python3.11/dist-packages (from rasterio->earthpy) (1.1.1)\n",
            "Requirement already satisfied: charset-normalizer<4,>=2 in /usr/local/lib/python3.11/dist-packages (from requests->earthpy) (3.4.1)\n",
            "Requirement already satisfied: idna<4,>=2.5 in /usr/local/lib/python3.11/dist-packages (from requests->earthpy) (3.10)\n",
            "Requirement already satisfied: urllib3<3,>=1.21.1 in /usr/local/lib/python3.11/dist-packages (from requests->earthpy) (2.3.0)\n",
            "Requirement already satisfied: scipy>=1.11.2 in /usr/local/lib/python3.11/dist-packages (from scikit-image->earthpy) (1.13.1)\n",
            "Requirement already satisfied: networkx>=3.0 in /usr/local/lib/python3.11/dist-packages (from scikit-image->earthpy) (3.4.2)\n",
            "Requirement already satisfied: imageio!=2.35.0,>=2.33 in /usr/local/lib/python3.11/dist-packages (from scikit-image->earthpy) (2.36.1)\n",
            "Requirement already satisfied: tifffile>=2022.8.12 in /usr/local/lib/python3.11/dist-packages (from scikit-image->earthpy) (2025.1.10)\n",
            "Requirement already satisfied: lazy-loader>=0.4 in /usr/local/lib/python3.11/dist-packages (from scikit-image->earthpy) (0.4)\n",
            "Requirement already satisfied: pytz>=2020.1 in /usr/local/lib/python3.11/dist-packages (from pandas>=1.4.0->geopandas->earthpy) (2024.2)\n",
            "Requirement already satisfied: tzdata>=2022.7 in /usr/local/lib/python3.11/dist-packages (from pandas>=1.4.0->geopandas->earthpy) (2025.1)\n",
            "Requirement already satisfied: six>=1.5 in /usr/local/lib/python3.11/dist-packages (from python-dateutil>=2.7->matplotlib>=2.0.0->earthpy) (1.17.0)\n"
          ]
        }
      ]
    },
    {
      "cell_type": "code",
      "source": [
        "pip install geopandas"
      ],
      "metadata": {
        "colab": {
          "base_uri": "https://localhost:8080/"
        },
        "id": "oVQbn7RqrQ72",
        "outputId": "5045b22a-3860-4b1d-edf4-9a865c82a546"
      },
      "execution_count": null,
      "outputs": [
        {
          "output_type": "stream",
          "name": "stdout",
          "text": [
            "Requirement already satisfied: geopandas in /usr/local/lib/python3.11/dist-packages (1.0.1)\n",
            "Requirement already satisfied: numpy>=1.22 in /usr/local/lib/python3.11/dist-packages (from geopandas) (1.26.4)\n",
            "Requirement already satisfied: pyogrio>=0.7.2 in /usr/local/lib/python3.11/dist-packages (from geopandas) (0.10.0)\n",
            "Requirement already satisfied: packaging in /usr/local/lib/python3.11/dist-packages (from geopandas) (24.2)\n",
            "Requirement already satisfied: pandas>=1.4.0 in /usr/local/lib/python3.11/dist-packages (from geopandas) (2.2.2)\n",
            "Requirement already satisfied: pyproj>=3.3.0 in /usr/local/lib/python3.11/dist-packages (from geopandas) (3.7.0)\n",
            "Requirement already satisfied: shapely>=2.0.0 in /usr/local/lib/python3.11/dist-packages (from geopandas) (2.0.6)\n",
            "Requirement already satisfied: python-dateutil>=2.8.2 in /usr/local/lib/python3.11/dist-packages (from pandas>=1.4.0->geopandas) (2.8.2)\n",
            "Requirement already satisfied: pytz>=2020.1 in /usr/local/lib/python3.11/dist-packages (from pandas>=1.4.0->geopandas) (2024.2)\n",
            "Requirement already satisfied: tzdata>=2022.7 in /usr/local/lib/python3.11/dist-packages (from pandas>=1.4.0->geopandas) (2025.1)\n",
            "Requirement already satisfied: certifi in /usr/local/lib/python3.11/dist-packages (from pyogrio>=0.7.2->geopandas) (2024.12.14)\n",
            "Requirement already satisfied: six>=1.5 in /usr/local/lib/python3.11/dist-packages (from python-dateutil>=2.8.2->pandas>=1.4.0->geopandas) (1.17.0)\n"
          ]
        }
      ]
    },
    {
      "cell_type": "code",
      "source": [
        "pip install rioxarray"
      ],
      "metadata": {
        "colab": {
          "base_uri": "https://localhost:8080/"
        },
        "id": "mUbpepvAwNg1",
        "outputId": "f9ca6acc-4e82-4f8b-e391-9216618199a1"
      },
      "execution_count": null,
      "outputs": [
        {
          "output_type": "stream",
          "name": "stdout",
          "text": [
            "Requirement already satisfied: rioxarray in /usr/local/lib/python3.11/dist-packages (0.18.2)\n",
            "Requirement already satisfied: packaging in /usr/local/lib/python3.11/dist-packages (from rioxarray) (24.2)\n",
            "Requirement already satisfied: rasterio>=1.3.7 in /usr/local/lib/python3.11/dist-packages (from rioxarray) (1.4.3)\n",
            "Requirement already satisfied: xarray>=2024.7.0 in /usr/local/lib/python3.11/dist-packages (from rioxarray) (2025.1.1)\n",
            "Requirement already satisfied: pyproj>=3.3 in /usr/local/lib/python3.11/dist-packages (from rioxarray) (3.7.0)\n",
            "Requirement already satisfied: numpy>=1.23 in /usr/local/lib/python3.11/dist-packages (from rioxarray) (1.26.4)\n",
            "Requirement already satisfied: certifi in /usr/local/lib/python3.11/dist-packages (from pyproj>=3.3->rioxarray) (2024.12.14)\n",
            "Requirement already satisfied: affine in /usr/local/lib/python3.11/dist-packages (from rasterio>=1.3.7->rioxarray) (2.4.0)\n",
            "Requirement already satisfied: attrs in /usr/local/lib/python3.11/dist-packages (from rasterio>=1.3.7->rioxarray) (25.1.0)\n",
            "Requirement already satisfied: click>=4.0 in /usr/local/lib/python3.11/dist-packages (from rasterio>=1.3.7->rioxarray) (8.1.8)\n",
            "Requirement already satisfied: cligj>=0.5 in /usr/local/lib/python3.11/dist-packages (from rasterio>=1.3.7->rioxarray) (0.7.2)\n",
            "Requirement already satisfied: click-plugins in /usr/local/lib/python3.11/dist-packages (from rasterio>=1.3.7->rioxarray) (1.1.1)\n",
            "Requirement already satisfied: pyparsing in /usr/local/lib/python3.11/dist-packages (from rasterio>=1.3.7->rioxarray) (3.2.1)\n",
            "Requirement already satisfied: pandas>=2.1 in /usr/local/lib/python3.11/dist-packages (from xarray>=2024.7.0->rioxarray) (2.2.2)\n",
            "Requirement already satisfied: python-dateutil>=2.8.2 in /usr/local/lib/python3.11/dist-packages (from pandas>=2.1->xarray>=2024.7.0->rioxarray) (2.8.2)\n",
            "Requirement already satisfied: pytz>=2020.1 in /usr/local/lib/python3.11/dist-packages (from pandas>=2.1->xarray>=2024.7.0->rioxarray) (2024.2)\n",
            "Requirement already satisfied: tzdata>=2022.7 in /usr/local/lib/python3.11/dist-packages (from pandas>=2.1->xarray>=2024.7.0->rioxarray) (2025.1)\n",
            "Requirement already satisfied: six>=1.5 in /usr/local/lib/python3.11/dist-packages (from python-dateutil>=2.8.2->pandas>=2.1->xarray>=2024.7.0->rioxarray) (1.17.0)\n"
          ]
        }
      ]
    },
    {
      "cell_type": "markdown",
      "source": [
        "# Import Library"
      ],
      "metadata": {
        "id": "LsloHIO-rsV6"
      }
    },
    {
      "cell_type": "code",
      "source": [
        "import rasterio\n",
        "import geopandas as gpd\n",
        "import numpy as np\n",
        "import matplotlib.pyplot as plt\n",
        "from matplotlib.colors import Normalize\n",
        "from matplotlib import cm\n",
        "from rasterio.plot import show\n",
        "import pandas as pd\n",
        "from google.colab import drive"
      ],
      "metadata": {
        "id": "aljyy0n8bO8k"
      },
      "execution_count": null,
      "outputs": []
    },
    {
      "cell_type": "code",
      "source": [
        "import rasterio as rio\n",
        "import rasterio.plot as rioplot\n",
        "import rioxarray as rxr\n",
        "import pyproj\n",
        "from rasterio.warp import calculate_default_transform, reproject, Resampling\n",
        "from rasterio.mask import mask"
      ],
      "metadata": {
        "id": "Q5KQ7ft4sh7E"
      },
      "execution_count": null,
      "outputs": []
    },
    {
      "cell_type": "code",
      "source": [
        "import earthpy.spatial as es\n",
        "import earthpy.plot as ep\n",
        "import earthpy as et"
      ],
      "metadata": {
        "id": "2cuEK7qeslSi"
      },
      "execution_count": null,
      "outputs": []
    },
    {
      "cell_type": "code",
      "source": [
        "import os\n",
        "import numpy as np\n",
        "import matplotlib\n",
        "import matplotlib.pyplot as plt"
      ],
      "metadata": {
        "id": "jJ3VqyBrsl1C"
      },
      "execution_count": null,
      "outputs": []
    },
    {
      "cell_type": "code",
      "source": [
        "import pyproj"
      ],
      "metadata": {
        "id": "l_GYueZ2GKmX"
      },
      "execution_count": null,
      "outputs": []
    },
    {
      "cell_type": "code",
      "source": [
        "import geopandas as gpd\n",
        "from shapely.geometry import Point\n",
        "from geopandas import GeoSeries, GeoDataFrame"
      ],
      "metadata": {
        "id": "641wWsr7B3Rw"
      },
      "execution_count": null,
      "outputs": []
    },
    {
      "cell_type": "code",
      "source": [
        "import rasterio\n",
        "import numpy as np\n",
        "import matplotlib.pyplot as plt\n",
        "from scipy.stats import pearsonr\n",
        "from scipy.ndimage import generic_filter"
      ],
      "metadata": {
        "id": "zE0Scdv4W9Z0"
      },
      "execution_count": null,
      "outputs": []
    },
    {
      "cell_type": "markdown",
      "source": [
        "# Mounting to Google Drive"
      ],
      "metadata": {
        "id": "S1dH5Hkco3Pz"
      }
    },
    {
      "cell_type": "code",
      "source": [
        "from google.colab import drive\n",
        "drive.mount('/content/drive')"
      ],
      "metadata": {
        "id": "j6vxsj11n2xk",
        "colab": {
          "base_uri": "https://localhost:8080/"
        },
        "outputId": "e5b34757-5feb-4ed3-db9f-e8cdd976270c"
      },
      "execution_count": null,
      "outputs": [
        {
          "output_type": "stream",
          "name": "stdout",
          "text": [
            "Drive already mounted at /content/drive; to attempt to forcibly remount, call drive.mount(\"/content/drive\", force_remount=True).\n"
          ]
        }
      ]
    },
    {
      "cell_type": "code",
      "source": [
        "os.chdir(\"drive/MyDrive/ipynb/data_coba\")"
      ],
      "metadata": {
        "id": "igw0PpNfn5OD"
      },
      "execution_count": null,
      "outputs": []
    },
    {
      "cell_type": "code",
      "source": [
        "os.getcwd()"
      ],
      "metadata": {
        "id": "mfNLH-dHn8C5",
        "colab": {
          "base_uri": "https://localhost:8080/",
          "height": 35
        },
        "outputId": "5fc71463-7d3b-4ff9-ef48-cbea76522b7f"
      },
      "execution_count": null,
      "outputs": [
        {
          "output_type": "execute_result",
          "data": {
            "text/plain": [
              "'/content/drive/MyDrive/ipynb/data_coba'"
            ],
            "application/vnd.google.colaboratory.intrinsic+json": {
              "type": "string"
            }
          },
          "metadata": {},
          "execution_count": 15
        }
      ]
    },
    {
      "cell_type": "markdown",
      "source": [
        "Import File"
      ],
      "metadata": {
        "id": "s5LSkBRoCb-f"
      }
    },
    {
      "cell_type": "code",
      "source": [
        "# SHP\n",
        "WPPRI = gpd.read_file(\"WPPRI711.shp\")"
      ],
      "metadata": {
        "id": "94Pc9xo3Ch4w"
      },
      "execution_count": null,
      "outputs": []
    },
    {
      "cell_type": "code",
      "source": [
        "# Reprojection\n",
        "WPPRI.crs = 'EPSG:32748'"
      ],
      "metadata": {
        "id": "g45XqJN-FpIb"
      },
      "execution_count": null,
      "outputs": []
    },
    {
      "cell_type": "code",
      "source": [
        "WPPRI.crs"
      ],
      "metadata": {
        "colab": {
          "base_uri": "https://localhost:8080/"
        },
        "id": "PNkijoziI5Ah",
        "outputId": "10de5149-226b-4c1e-faec-257a607320aa"
      },
      "execution_count": null,
      "outputs": [
        {
          "output_type": "execute_result",
          "data": {
            "text/plain": [
              "<Projected CRS: EPSG:32748>\n",
              "Name: WGS 84 / UTM zone 48S\n",
              "Axis Info [cartesian]:\n",
              "- E[east]: Easting (metre)\n",
              "- N[north]: Northing (metre)\n",
              "Area of Use:\n",
              "- name: Between 102°E and 108°E, southern hemisphere between 80°S and equator, onshore and offshore. Indonesia.\n",
              "- bounds: (102.0, -80.0, 108.0, 0.0)\n",
              "Coordinate Operation:\n",
              "- name: UTM zone 48S\n",
              "- method: Transverse Mercator\n",
              "Datum: World Geodetic System 1984 ensemble\n",
              "- Ellipsoid: WGS 84\n",
              "- Prime Meridian: Greenwich"
            ]
          },
          "metadata": {},
          "execution_count": 18
        }
      ]
    },
    {
      "cell_type": "code",
      "source": [
        "WPPRI.plot(cmap='Set2')"
      ],
      "metadata": {
        "colab": {
          "base_uri": "https://localhost:8080/",
          "height": 447
        },
        "id": "iez3eiGULHxl",
        "outputId": "f677b526-536f-4432-f7c0-5c8e15d9860e"
      },
      "execution_count": null,
      "outputs": [
        {
          "output_type": "execute_result",
          "data": {
            "text/plain": [
              "<Axes: >"
            ]
          },
          "metadata": {},
          "execution_count": 50
        },
        {
          "output_type": "display_data",
          "data": {
            "text/plain": [
              "<Figure size 640x480 with 1 Axes>"
            ],
            "image/png": "[encoded data removed]"
          },
          "metadata": {}
        }
      ]
    },
    {
      "cell_type": "code",
      "source": [
        "# RASTER\n",
        "PFZ = \"PFZ_COBA.tif\"\n",
        "VMS = \"VMS_COBA.tif\""
      ],
      "metadata": {
        "id": "rz-9DUTToycQ"
      },
      "execution_count": null,
      "outputs": []
    },
    {
      "cell_type": "code",
      "source": [
        "#Reprojection, convert ke EPSG\n",
        "PFZ_COBA_crs = 'EPSG:32748'\n",
        "VMS_COBA_crs = 'EPSG:32748'"
      ],
      "metadata": {
        "id": "zzl5mhHPIOxN"
      },
      "execution_count": null,
      "outputs": []
    },
    {
      "cell_type": "code",
      "source": [
        "#cek metadata\n",
        "print(PFZ_COBA_crs)\n",
        "print(VMS_COBA_crs)\n",
        "print (WPPRI.crs)"
      ],
      "metadata": {
        "colab": {
          "base_uri": "https://localhost:8080/"
        },
        "id": "o9_VWUSWDR7C",
        "outputId": "61ac8ea9-37d1-4d56-94bf-a0e1052d294e"
      },
      "execution_count": null,
      "outputs": [
        {
          "output_type": "stream",
          "name": "stdout",
          "text": [
            "EPSG:32748\n",
            "EPSG:32748\n",
            "EPSG:32748\n"
          ]
        }
      ]
    },
    {
      "cell_type": "code",
      "source": [
        "ep.plot_bands(PFZ_COBA)\n",
        "ep.plot_bands(VMS_COBA)"
      ],
      "metadata": {
        "id": "kQCy1KPiDTva",
        "colab": {
          "base_uri": "https://localhost:8080/",
          "height": 1000
        },
        "outputId": "2a739962-d2dc-4f87-d283-b943210fb7ff"
      },
      "execution_count": null,
      "outputs": [
        {
          "output_type": "display_data",
          "data": {
            "text/plain": [
              "<Figure size 1200x1200 with 2 Axes>"
            ],
            "image/png": "[encoded data removed]"
          },
          "metadata": {}
        },
        {
          "output_type": "display_data",
          "data": {
            "text/plain": [
              "<Figure size 1200x1200 with 2 Axes>"
            ],
            "image/png": "[encoded data removed]"
          },
          "metadata": {}
        },
        {
          "output_type": "execute_result",
          "data": {
            "text/plain": [
              "<Axes: >"
            ]
          },
          "metadata": {},
          "execution_count": 46
        }
      ]
    },
    {
      "cell_type": "markdown",
      "source": [
        "# Calculating correlation"
      ],
      "metadata": {
        "id": "NTqkOhk3KExZ"
      }
    },
    {
      "cell_type": "code",
      "source": [
        "# Function to read raster and return array + metadata\n",
        "def read_raster(raster_path):\n",
        "    with rasterio.open(raster_path) as src:\n",
        "        data = src.read(1)  # Read first band\n",
        "        profile = src.profile  # Save metadata\n",
        "    return data, profile"
      ],
      "metadata": {
        "id": "59-HDNrNXYxN"
      },
      "execution_count": null,
      "outputs": []
    },
    {
      "cell_type": "code",
      "source": [
        "# File paths\n",
        "raster1_path = \"PFZ_COBA.tif\"\n",
        "raster2_path = \"VMS_COBA.tif\"\n",
        "\n",
        "# Read raster data\n",
        "PFZ_COBA, profile = read_raster(raster1_path)\n",
        "VMS_COBA, _ = read_raster(raster2_path)"
      ],
      "metadata": {
        "id": "vpcRRIzqXcJK"
      },
      "execution_count": null,
      "outputs": []
    },
    {
      "cell_type": "code",
      "source": [
        "# Ensure rasters have same shape\n",
        "if PFZ_COBA.shape != VMS_COBA.shape:\n",
        "    raise ValueError(\"Rasters must have the same dimensions.\")"
      ],
      "metadata": {
        "id": "gVUEKv0lYwQy"
      },
      "execution_count": null,
      "outputs": []
    },
    {
      "cell_type": "code",
      "source": [
        "valid_mask = (PFZ_COBA != 0) & (VMS_COBA != 0)  # Mask pixels where both are non-zero\n",
        "\n",
        "PFZ_COBA_filtered = np.where(valid_mask, PFZ_COBA, np.nan)\n",
        "VMS_COBA_filtered = np.where(valid_mask, VMS_COBA, np.nan)"
      ],
      "metadata": {
        "id": "ZZigqFIRzIXX"
      },
      "execution_count": null,
      "outputs": []
    },
    {
      "cell_type": "code",
      "source": [
        "# Function to compute correlation in a moving window\n",
        "def moving_correlation(window):\n",
        "    size = window.size // 3\n",
        "    x, y = window[:size], window[size:]\n",
        "\n",
        "    # Ignore if all values are NaN\n",
        "    if np.all(np.isnan(x)) or np.all(np.isnan(y)):\n",
        "        return np.nan\n",
        "\n",
        "    # Compute Pearson correlation\n",
        "    return pearsonr(x, y)[0]"
      ],
      "metadata": {
        "id": "HT-nELS1ZIaU"
      },
      "execution_count": null,
      "outputs": []
    },
    {
      "cell_type": "code",
      "source": [
        "# Stack the two rasters to apply the filter\n",
        "stacked_data = np.dstack((PFZ_COBA_filtered, VMS_COBA_filtered))\n",
        "window_size = 3  # Define kernel size (3x3)"
      ],
      "metadata": {
        "id": "vrqfb2hDzG5d"
      },
      "execution_count": null,
      "outputs": []
    },
    {
      "cell_type": "code",
      "source": [
        " # Function to compute correlation in a moving window\n",
        "def moving_correlation(window):\n",
        "    # Ensure the window is divided into two halves for correlation\n",
        "    size = window.size // 3  # Split the window size into two equal parts\n",
        "\n",
        "    if window.size % 2 == 1:\n",
        "        center = window[window.size // 2]\n",
        "        x, y = window[:size], window[size + 1:]  # Skip the center element\n",
        "    else:\n",
        "        x, y = window[:size], window[size:]\n",
        "# Ensure x and y have the same length\n",
        "    if len(x) != len(y):\n",
        "        return np.nan"
      ],
      "metadata": {
        "id": "zXqaoarU9_u9"
      },
      "execution_count": null,
      "outputs": []
    },
    {
      "cell_type": "code",
      "source": [
        "# Apply the moving correlation filter\n",
        "correlation_raster = generic_filter(\n",
        "    stacked_data,\n",
        "    function=moving_correlation,\n",
        "    size=(window_size, window_size, 1),  # Use 3x3 window\n",
        "    mode='constant',  # Padding with NaN for the edges\n",
        "    cval=np.nan  # Fill the padding with NaN\n",
        ")"
      ],
      "metadata": {
        "id": "M6IL9gBY7702"
      },
      "execution_count": null,
      "outputs": []
    },
    {
      "cell_type": "code",
      "source": [
        "print(f\"Shape of correlation_raster: {correlation_raster.shape}\")\n"
      ],
      "metadata": {
        "colab": {
          "base_uri": "https://localhost:8080/"
        },
        "id": "jKQsCLJ2_LWP",
        "outputId": "a4420812-132a-4cb5-8478-97c9876d4778"
      },
      "execution_count": null,
      "outputs": [
        {
          "output_type": "stream",
          "name": "stdout",
          "text": [
            "Shape of correlation_raster: (83, 52, 2)\n"
          ]
        }
      ]
    },
    {
      "cell_type": "code",
      "source": [
        "# Extract only the first channel of the correlation result\n",
        "correlation_raster = correlation_raster[:, :, 0]  # Selecting the first channel (correlation result)\n",
        "\n",
        "# Check the shape after reshaping\n",
        "print(f\"Shape of the correlation raster after reshaping: {correlation_raster.shape}\")\n",
        "\n",
        "# Save the correlation raster\n",
        "output_path = \"correlation_raster.tif\"\n",
        "profile.update(dtype=rasterio.float32, count=1)  # We have one output band\n",
        "\n",
        "with rasterio.open(output_path, \"w\", **profile) as dst:\n",
        "    dst.write(correlation_raster.astype(rasterio.float32), 1)  # Save as a single band\n",
        "\n",
        "print(f\"Correlation raster saved as {output_path}\")"
      ],
      "metadata": {
        "colab": {
          "base_uri": "https://localhost:8080/"
        },
        "id": "ZDGa1FjF_hbp",
        "outputId": "dc03f126-d26f-449d-9317-6c95e51566a0"
      },
      "execution_count": null,
      "outputs": [
        {
          "output_type": "stream",
          "name": "stdout",
          "text": [
            "Shape of the correlation raster after reshaping: (83, 52)\n",
            "Correlation raster saved as correlation_raster.tif\n"
          ]
        }
      ]
    },
    {
      "cell_type": "code",
      "source": [
        "# Read the correlation raster for visualization\n",
        "with rasterio.open(output_path) as src:\n",
        "    correlation_data = src.read(1)  # Read first band\n",
        "    extent = [src.bounds.left, src.bounds.right, src.bounds.bottom, src.bounds.top]  # Get spatial extent\n",
        "\n",
        "# Plot the correlation raster\n",
        "plt.figure(figsize=(10, 6))\n",
        "plt.imshow(correlation_data, cmap=\"coolwarm\", extent=extent, origin=\"upper\")\n",
        "plt.colorbar(label=\"Correlation Coefficient\")\n",
        "plt.title(\"Spatial Correlation Raster\")\n",
        "plt.xlabel(\"Longitude\")\n",
        "plt.ylabel(\"Latitude\")\n",
        "plt.show()"
      ],
      "metadata": {
        "colab": {
          "base_uri": "https://localhost:8080/",
          "height": 564
        },
        "id": "s_qYVLQF_kjS",
        "outputId": "f34a7fac-1fc2-44b0-c808-101318c2403d"
      },
      "execution_count": null,
      "outputs": [
        {
          "output_type": "display_data",
          "data": {
            "text/plain": [
              "<Figure size 1000x600 with 2 Axes>"
            ],
            "image/png": "[encoded data removed]"
          },
          "metadata": {}
        }
      ]
    },
    {
      "cell_type": "markdown",
      "source": [
        "==========BATAS SUCI==============="
      ],
      "metadata": {
        "id": "TTmPQkImXibt"
      }
    },
    {
      "cell_type": "code",
      "source": [
        "\n",
        "# Function to read raster and return array + metadata\n",
        "def read_raster(raster_path):\n",
        "    with rasterio.open(raster_path) as src:\n",
        "        data = src.read(1)  # Read first band\n",
        "        profile = src.profile  # Save metadata\n",
        "    return data, profile\n",
        "\n",
        "# File paths\n",
        "raster1_path = \"raster1.tif\"\n",
        "raster2_path = \"raster2.tif\"\n",
        "\n",
        "# Read raster data\n",
        "raster1, profile = read_raster(raster1_path)\n",
        "raster2, _ = read_raster(raster2_path)\n",
        "\n",
        "# Ensure rasters have same shape\n",
        "if raster1.shape != raster2.shape:\n",
        "    raise ValueError(\"Rasters must have the same dimensions.\")\n",
        "\n",
        "# Function to compute correlation in a moving window\n",
        "def moving_correlation(window):\n",
        "    size = window.size // 2\n",
        "    x, y = window[:size], window[size:]\n",
        "\n",
        "    # Ignore if all values are NaN\n",
        "    if np.all(np.isnan(x)) or np.all(np.isnan(y)):\n",
        "        return np.nan\n",
        "\n",
        "    # Compute Pearson correlation\n",
        "    return pearsonr(x, y)[0]\n",
        "\n",
        "# Stack the two rasters to apply the filter\n",
        "stacked_data = np.dstack((raster1, raster2))\n",
        "window_size = 3  # Define kernel size (3x3)\n",
        "\n",
        "# Apply the moving window correlation\n",
        "correlation_raster = generic_filter(\n",
        "    stacked_data.reshape((raster1.shape[0], raster1.shape[1] * 2)),\n",
        "    function=moving_correlation,\n",
        "    size=(window_size, window_size * 2),\n",
        "    mode=\"constant\",\n",
        "    cval=np.nan\n",
        ")\n",
        "\n",
        "# Save the correlation raster\n",
        "output_path = \"correlation_raster.tif\"\n",
        "profile.update(dtype=rasterio.float32, count=1)\n",
        "\n",
        "with rasterio.open(output_path, \"w\", **profile) as dst:\n",
        "    dst.write(correlation_raster.astype(rasterio.float32), 1)\n",
        "\n",
        "print(f\"Correlation raster saved as {output_path}\")\n",
        "\n",
        "# Read the correlation raster for visualization\n",
        "with rasterio.open(output_path) as src:\n",
        "    correlation_data = src.read(1)  # Read first band\n",
        "    extent = [src.bounds.left, src.bounds.right, src.bounds.bottom, src.bounds.top]  # Get spatial extent\n",
        "\n",
        "# Plot the correlation raster\n",
        "plt.figure(figsize=(10, 6))\n",
        "plt.imshow(correlation_data, cmap=\"coolwarm\", extent=extent, origin=\"upper\")\n",
        "plt.colorbar(label=\"Correlation Coefficient\")\n",
        "plt.title(\"Spatial Correlation Raster\")\n",
        "plt.xlabel(\"Longitude\")\n",
        "plt.ylabel(\"Latitude\")\n",
        "plt.show()"
      ],
      "metadata": {
        "id": "4SFGX4bNKDuZ"
      },
      "execution_count": null,
      "outputs": []
    }
  ]
}